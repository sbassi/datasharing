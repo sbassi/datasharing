{
  "nbformat": 4,
  "nbformat_minor": 0,
  "metadata": {
    "colab": {
      "name": "compara JIRA vs Spreadsheet data",
      "version": "0.3.2",
      "provenance": [],
      "include_colab_link": true
    },
    "kernelspec": {
      "name": "python3",
      "display_name": "Python 3"
    }
  },
  "cells": [
    {
      "cell_type": "markdown",
      "metadata": {
        "id": "view-in-github",
        "colab_type": "text"
      },
      "source": [
        "<a href=\"https://colab.research.google.com/github/sbassi/datasharing/blob/master/compara_JIRA_vs_Spreadsheet_data.ipynb\" target=\"_parent\"><img src=\"https://colab.research.google.com/assets/colab-badge.svg\" alt=\"Open In Colab\"/></a>"
      ]
    },
    {
      "metadata": {
        "id": "8Pllbyt9y6P1",
        "colab_type": "code",
        "colab": {}
      },
      "cell_type": "code",
      "source": [
        "from google.colab import auth\n",
        "auth.authenticate_user()\n",
        "\n",
        "import gspread\n",
        "from oauth2client.client import GoogleCredentials\n",
        "\n",
        "gc = gspread.authorize(GoogleCredentials.get_application_default())\n",
        "\n",
        "worksheet = gc.open('jiraandspreadsheetdata').sheet1\n",
        "\n",
        "# get_all_values gives a list of rows.\n",
        "rows = worksheet.get_all_values()\n",
        "import pandas as pd\n",
        "df = pd.DataFrame.from_records(rows)"
      ],
      "execution_count": 0,
      "outputs": []
    },
    {
      "metadata": {
        "id": "bakwDiP81Lra",
        "colab_type": "code",
        "colab": {}
      },
      "cell_type": "code",
      "source": [
        "jiradata = set(df[0].tolist())\n",
        "spreadsheetdata = set(df[1].tolist())"
      ],
      "execution_count": 0,
      "outputs": []
    },
    {
      "metadata": {
        "id": "cPlmvXdG4KCI",
        "colab_type": "text"
      },
      "cell_type": "markdown",
      "source": [
        "# Data only in jiradata"
      ]
    },
    {
      "metadata": {
        "id": "AvqrdlY034td",
        "colab_type": "code",
        "colab": {
          "base_uri": "https://localhost:8080/",
          "height": 54
        },
        "outputId": "76a28fa9-b455-4191-c999-0348752da736"
      },
      "cell_type": "code",
      "source": [
        "only_jira = jiradata - spreadsheetdata\n",
        "print(only_jira)"
      ],
      "execution_count": 18,
      "outputs": [
        {
          "output_type": "stream",
          "text": [
            "{'CLMV2-994', 'CLMV2-1024', 'CLMV2-596', 'CLMV2-594', 'CLMV2-1003', 'CLMV2-592', 'CLMV2-995', 'CLMV2-1005', 'CLMV2-605', 'CLMV2-584', 'CLMV2-585', 'CLMV2-600', 'CLMV2-1010', 'CLMV2-587', 'CLMV2-1019', 'CLMV2-580', 'CLMV2-1015', 'CLMV2-1004', 'CLMV2-603', 'CLMV2-1011', 'CLMV2-1020', 'CLMV2-606', 'CLMV2-588', 'CLMV2-582', 'CLMV2-1007', 'CLMV2-1000', 'CLMV2-997', 'CLMV2-610', 'CLMV2-590', 'CLMV2-614', 'CLMV2-1079', 'CLMV2-619', 'CLMV2-1012', 'Jira data', 'CLMV2-999', 'CLMV2-583', 'CLMV2-581', 'CLMV2-1016', 'CLMV2-608', 'CLMV2-725', 'CLMV2-620', 'CLMV2-576', 'CLMV2-599', 'CLMV2-593', 'CLMV2-597', 'CLMV2-602', 'CLMV2-1009', 'CLMV2-617', 'CLMV2-612', 'CLMV2-611', 'CLMV2-616', 'CLMV2-622', 'CLMV2-604', 'CLMV2-1018', 'CLMV2-613', 'CLMV2-598', 'CLMV2-609', 'CLMV2-1001', 'CLMV2-579', 'CLMV2-1002', 'CLMV2-591', 'CLMV2-578', 'CLMV2-1017', 'CLMV2-586', 'CLMV2-1021', 'CLMV2-601', 'CLMV2-996', 'CLMV2-674', 'CLMV2-577', 'CLMV2-615', 'CLMV2-1014', 'CLMV2-1006', 'CLMV2-1008', 'CLMV2-649', 'CLMV2-621', 'CLMV2-595', 'CLMV2-607', 'CLMV2-589', 'CLMV2-998', 'CLMV2-1013', 'CLMV2-618'}\n"
          ],
          "name": "stdout"
        }
      ]
    },
    {
      "metadata": {
        "id": "e6Q0nBk14pdq",
        "colab_type": "text"
      },
      "cell_type": "markdown",
      "source": [
        "# Data only in Spreadsheet"
      ]
    },
    {
      "metadata": {
        "id": "C_-DRC7m4tiT",
        "colab_type": "code",
        "colab": {
          "base_uri": "https://localhost:8080/",
          "height": 54
        },
        "outputId": "24da03f7-39bb-4a25-cfa8-9603f1744faa"
      },
      "cell_type": "code",
      "source": [
        "only_spreadsheet = spreadsheetdata - jiradata\n",
        "print(only_spreadsheet)"
      ],
      "execution_count": 19,
      "outputs": [
        {
          "output_type": "stream",
          "text": [
            "{'', 'CLMV2-1034', 'Spreadsheet', 'CLMV2-976', 'CLMV2-977', 'CLMV2-975', 'CLMV2-1030', 'CLMV2-967', 'CLMV2-971', 'CLMV2-1065', 'CLMV2-983', 'CLMV2-979', 'CLMV2-1036', 'CLMV2-968', 'CLMV2-1032', 'CLMV2-972', 'CLMV2-984', 'CLMV2-973', 'CLMV2-982', 'CLMV2-981', 'CLMV2-1033', 'CLMV2-1068', 'CLMV2-980', 'CLMV2-1064', 'CLMV2-970', 'CLMV2-1053', 'CLMV2-1035', 'CLMV2-1031'}\n"
          ],
          "name": "stdout"
        }
      ]
    }
  ]
}