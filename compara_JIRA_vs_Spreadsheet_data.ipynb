{
  "nbformat": 4,
  "nbformat_minor": 0,
  "metadata": {
    "colab": {
      "name": "compara JIRA vs Spreadsheet data",
      "version": "0.3.2",
      "provenance": [],
      "include_colab_link": true
    },
    "kernelspec": {
      "name": "python3",
      "display_name": "Python 3"
    }
  },
  "cells": [
    {
      "cell_type": "markdown",
      "metadata": {
        "id": "view-in-github",
        "colab_type": "text"
      },
      "source": [
        "<a href=\"https://colab.research.google.com/github/sbassi/datasharing/blob/master/compara_JIRA_vs_Spreadsheet_data.ipynb\" target=\"_parent\"><img src=\"https://colab.research.google.com/assets/colab-badge.svg\" alt=\"Open In Colab\"/></a>"
      ]
    },
    {
      "metadata": {
        "id": "8Pllbyt9y6P1",
        "colab_type": "code",
        "colab": {}
      },
      "cell_type": "code",
      "source": [
        "from google.colab import auth\n",
        "auth.authenticate_user()\n",
        "\n",
        "import gspread\n",
        "from oauth2client.client import GoogleCredentials\n",
        "\n",
        "gc = gspread.authorize(GoogleCredentials.get_application_default())\n",
        "\n",
        "worksheet = gc.open('jiraandspreadsheetdata').sheet1\n",
        "\n",
        "# get_all_values gives a list of rows.\n",
        "rows = worksheet.get_all_values()\n",
        "import pandas as pd\n",
        "df = pd.DataFrame.from_records(rows)"
      ],
      "execution_count": 0,
      "outputs": []
    },
    {
      "metadata": {
        "id": "bakwDiP81Lra",
        "colab_type": "code",
        "colab": {}
      },
      "cell_type": "code",
      "source": [
        "jiradata = set(df[0][1:].tolist())\n",
        "spreadsheetdata = set(df[1][1:].tolist())\n",
        "total_data = jiradata.union(spreadsheetdata)\n",
        "total_data_list = list(total_data)\n",
        "#print(total_data_list)"
      ],
      "execution_count": 0,
      "outputs": []
    },
    {
      "metadata": {
        "id": "cPlmvXdG4KCI",
        "colab_type": "text"
      },
      "cell_type": "markdown",
      "source": [
        "# Data only in jiradata"
      ]
    },
    {
      "metadata": {
        "id": "AvqrdlY034td",
        "colab_type": "code",
        "colab": {
          "base_uri": "https://localhost:8080/",
          "height": 70
        },
        "outputId": "bcfe243b-71a2-4d70-8c4c-ef9b0b1a7430"
      },
      "cell_type": "code",
      "source": [
        "only_jira = jiradata - spreadsheetdata\n",
        "print(len(only_jira))\n",
        "print(only_jira)"
      ],
      "execution_count": 4,
      "outputs": [
        {
          "output_type": "stream",
          "text": [
            "80\n",
            "{'CLMV2-595', 'CLMV2-577', 'CLMV2-591', 'CLMV2-590', 'CLMV2-584', 'CLMV2-596', 'CLMV2-617', 'CLMV2-1020', 'CLMV2-620', 'CLMV2-599', 'CLMV2-598', 'CLMV2-586', 'CLMV2-588', 'CLMV2-997', 'CLMV2-996', 'CLMV2-621', 'CLMV2-614', 'CLMV2-1014', 'CLMV2-1012', 'CLMV2-1021', 'CLMV2-1015', 'CLMV2-1000', 'CLMV2-995', 'CLMV2-1001', 'CLMV2-1009', 'CLMV2-649', 'CLMV2-589', 'CLMV2-1008', 'CLMV2-600', 'CLMV2-1019', 'CLMV2-585', 'CLMV2-725', 'CLMV2-597', 'CLMV2-1024', 'CLMV2-580', 'CLMV2-579', 'CLMV2-616', 'CLMV2-593', 'CLMV2-612', 'CLMV2-613', 'CLMV2-618', 'CLMV2-594', 'CLMV2-1011', 'CLMV2-1004', 'CLMV2-576', 'CLMV2-998', 'CLMV2-609', 'CLMV2-607', 'CLMV2-583', 'CLMV2-605', 'CLMV2-1006', 'CLMV2-1016', 'CLMV2-994', 'CLMV2-608', 'CLMV2-1007', 'CLMV2-610', 'CLMV2-604', 'CLMV2-1003', 'CLMV2-1018', 'CLMV2-1017', 'CLMV2-622', 'CLMV2-606', 'CLMV2-601', 'CLMV2-592', 'CLMV2-615', 'CLMV2-582', 'CLMV2-1079', 'CLMV2-578', 'CLMV2-999', 'CLMV2-581', 'CLMV2-602', 'CLMV2-619', 'CLMV2-674', 'CLMV2-603', 'CLMV2-1002', 'CLMV2-1005', 'CLMV2-1013', 'CLMV2-611', 'CLMV2-587', 'CLMV2-1010'}\n"
          ],
          "name": "stdout"
        }
      ]
    },
    {
      "metadata": {
        "id": "e6Q0nBk14pdq",
        "colab_type": "text"
      },
      "cell_type": "markdown",
      "source": [
        "# Data only in Spreadsheet"
      ]
    },
    {
      "metadata": {
        "id": "C_-DRC7m4tiT",
        "colab_type": "code",
        "colab": {
          "base_uri": "https://localhost:8080/",
          "height": 70
        },
        "outputId": "5b3394d3-0e80-4e37-ce2b-9e2221b78c59"
      },
      "cell_type": "code",
      "source": [
        "only_spreadsheet = spreadsheetdata - jiradata\n",
        "print(len(only_spreadsheet))\n",
        "print(only_spreadsheet)"
      ],
      "execution_count": 5,
      "outputs": [
        {
          "output_type": "stream",
          "text": [
            "27\n",
            "{'', 'CLMV2-977', 'CLMV2-983', 'CLMV2-1068', 'CLMV2-1036', 'CLMV2-1035', 'CLMV2-1053', 'CLMV2-975', 'CLMV2-972', 'CLMV2-1033', 'CLMV2-1031', 'CLMV2-1064', 'CLMV2-1030', 'CLMV2-1032', 'CLMV2-970', 'CLMV2-976', 'CLMV2-982', 'CLMV2-971', 'CLMV2-981', 'CLMV2-967', 'CLMV2-1065', 'CLMV2-980', 'CLMV2-979', 'CLMV2-973', 'CLMV2-1034', 'CLMV2-968', 'CLMV2-984'}\n"
          ],
          "name": "stdout"
        }
      ]
    },
    {
      "metadata": {
        "id": "uy6sL7w37NSn",
        "colab_type": "text"
      },
      "cell_type": "markdown",
      "source": [
        "Printing in columns"
      ]
    },
    {
      "metadata": {
        "id": "9VExWsIZ7Q8p",
        "colab_type": "code",
        "colab": {}
      },
      "cell_type": "code",
      "source": [
        "only_jira_list = list(only_jira)\n",
        "only_spreadsheet_list = list(only_spreadsheet)\n",
        "only_jira_list.sort()\n",
        "only_spreadsheet_list.sort()\n"
      ],
      "execution_count": 0,
      "outputs": []
    },
    {
      "metadata": {
        "id": "GJWvpd7t8S4T",
        "colab_type": "code",
        "colab": {
          "base_uri": "https://localhost:8080/",
          "height": 70
        },
        "outputId": "0b99c8a5-b000-45de-8cb4-ab9f8f10ca37"
      },
      "cell_type": "code",
      "source": [
        "print(only_jira_list)\n",
        "# Remove whitespace\n",
        "only_spreadsheet_list = list(filter(lambda x: x != '',only_spreadsheet_list))\n",
        "print(only_spreadsheet_list)\n",
        "\n",
        "   "
      ],
      "execution_count": 23,
      "outputs": [
        {
          "output_type": "stream",
          "text": [
            "['CLMV2-1000', 'CLMV2-1001', 'CLMV2-1002', 'CLMV2-1003', 'CLMV2-1004', 'CLMV2-1005', 'CLMV2-1006', 'CLMV2-1007', 'CLMV2-1008', 'CLMV2-1009', 'CLMV2-1010', 'CLMV2-1011', 'CLMV2-1012', 'CLMV2-1013', 'CLMV2-1014', 'CLMV2-1015', 'CLMV2-1016', 'CLMV2-1017', 'CLMV2-1018', 'CLMV2-1019', 'CLMV2-1020', 'CLMV2-1021', 'CLMV2-1024', 'CLMV2-1079', 'CLMV2-576', 'CLMV2-577', 'CLMV2-578', 'CLMV2-579', 'CLMV2-580', 'CLMV2-581', 'CLMV2-582', 'CLMV2-583', 'CLMV2-584', 'CLMV2-585', 'CLMV2-586', 'CLMV2-587', 'CLMV2-588', 'CLMV2-589', 'CLMV2-590', 'CLMV2-591', 'CLMV2-592', 'CLMV2-593', 'CLMV2-594', 'CLMV2-595', 'CLMV2-596', 'CLMV2-597', 'CLMV2-598', 'CLMV2-599', 'CLMV2-600', 'CLMV2-601', 'CLMV2-602', 'CLMV2-603', 'CLMV2-604', 'CLMV2-605', 'CLMV2-606', 'CLMV2-607', 'CLMV2-608', 'CLMV2-609', 'CLMV2-610', 'CLMV2-611', 'CLMV2-612', 'CLMV2-613', 'CLMV2-614', 'CLMV2-615', 'CLMV2-616', 'CLMV2-617', 'CLMV2-618', 'CLMV2-619', 'CLMV2-620', 'CLMV2-621', 'CLMV2-622', 'CLMV2-649', 'CLMV2-674', 'CLMV2-725', 'CLMV2-994', 'CLMV2-995', 'CLMV2-996', 'CLMV2-997', 'CLMV2-998', 'CLMV2-999']\n",
            "['CLMV2-1030', 'CLMV2-1031', 'CLMV2-1032', 'CLMV2-1033', 'CLMV2-1034', 'CLMV2-1035', 'CLMV2-1036', 'CLMV2-1053', 'CLMV2-1064', 'CLMV2-1065', 'CLMV2-1068', 'CLMV2-967', 'CLMV2-968', 'CLMV2-970', 'CLMV2-971', 'CLMV2-972', 'CLMV2-973', 'CLMV2-975', 'CLMV2-976', 'CLMV2-977', 'CLMV2-979', 'CLMV2-980', 'CLMV2-981', 'CLMV2-982', 'CLMV2-983', 'CLMV2-984']\n"
          ],
          "name": "stdout"
        }
      ]
    },
    {
      "metadata": {
        "id": "2S9FO1EVXz6W",
        "colab_type": "code",
        "colab": {
          "base_uri": "https://localhost:8080/",
          "height": 4150
        },
        "outputId": "3faae2c5-ae19-4a45-926c-538f420ef562"
      },
      "cell_type": "code",
      "source": [
        "# pickup longest\n",
        "if len(only_jira_list)>len(only_spreadsheet_list):\n",
        "    longest = only_jira_list\n",
        "    shortest = only_spreadsheet_list \n",
        "else:\n",
        "    longest = only_spreadsheet_list\n",
        "    shortest = only_jira_list\n",
        "    \n",
        "final_dict = {}\n",
        "for count, item in enumerate(total_data):\n",
        "    if item in shortest:\n",
        "        #print('in shortest')\n",
        "        final_dict[count] = ('.', item)\n",
        "    elif item in longest:\n",
        "        final_dict[count] = (item, '.')\n",
        "    else:\n",
        "        final_dict[count] = (item, item)\n",
        "\n",
        "for item in final_dict:\n",
        "    row = final_dict[item]\n",
        "    print(str(row)[1:-1])\n"
      ],
      "execution_count": 27,
      "outputs": [
        {
          "output_type": "stream",
          "text": [
            "'CLMV2-629', 'CLMV2-629'\n",
            "'CLMV2-595', '.'\n",
            "'CLMV2-985', 'CLMV2-985'\n",
            "'CLMV2-505', 'CLMV2-505'\n",
            "'', ''\n",
            "'CLMV2-661', 'CLMV2-661'\n",
            "'CLMV2-533', 'CLMV2-533'\n",
            "'CLMV2-991', 'CLMV2-991'\n",
            "'.', 'CLMV2-1036'\n",
            "'CLMV2-1015', '.'\n",
            "'CLMV2-1000', '.'\n",
            "'CLMV2-995', '.'\n",
            "'CLMV2-990', 'CLMV2-990'\n",
            "'CLMV2-1063', 'CLMV2-1063'\n",
            "'CLMV2-953', 'CLMV2-953'\n",
            "'CLMV2-942', 'CLMV2-942'\n",
            "'CLMV2-579', '.'\n",
            "'.', 'CLMV2-1064'\n",
            "'CLMV2-690', 'CLMV2-690'\n",
            "'.', 'CLMV2-970'\n",
            "'CLMV2-696', 'CLMV2-696'\n",
            "'CLMV2-613', '.'\n",
            "'CLMV2-820', 'CLMV2-820'\n",
            "'CLMV2-954', 'CLMV2-954'\n",
            "'CLMV2-610', '.'\n",
            "'CLMV2-604', '.'\n",
            "'CLMV2-707', 'CLMV2-707'\n",
            "'CLMV2-814', 'CLMV2-814'\n",
            "'CLMV2-581', '.'\n",
            "'.', 'CLMV2-979'\n",
            "'CLMV2-816', 'CLMV2-816'\n",
            "'CLMV2-671', 'CLMV2-671'\n",
            "'CLMV2-542', 'CLMV2-542'\n",
            "'.', 'CLMV2-984'\n",
            "'CLMV2-577', '.'\n",
            "'CLMV2-556', 'CLMV2-556'\n",
            "'CLMV2-1020', '.'\n",
            "'CLMV2-673', 'CLMV2-673'\n",
            "'CLMV2-634', 'CLMV2-634'\n",
            "'CLMV2-1054', 'CLMV2-1054'\n",
            "'CLMV2-644', 'CLMV2-644'\n",
            "'CLMV2-988', 'CLMV2-988'\n",
            "'CLMV2-989', 'CLMV2-989'\n",
            "'CLMV2-600', '.'\n",
            "'CLMV2-597', '.'\n",
            "'.', 'CLMV2-1033'\n",
            "'CLMV2-580', '.'\n",
            "'CLMV2-510', 'CLMV2-510'\n",
            "'CLMV2-993', 'CLMV2-993'\n",
            "'.', 'CLMV2-976'\n",
            "'CLMV2-851', 'CLMV2-851'\n",
            "'CLMV2-917', 'CLMV2-917'\n",
            "'CLMV2-618', '.'\n",
            "'CLMV2-1071', 'CLMV2-1071'\n",
            "'CLMV2-1004', '.'\n",
            "'CLMV2-594', '.'\n",
            "'CLMV2-544', 'CLMV2-544'\n",
            "'CLMV2-583', '.'\n",
            "'CLMV2-605', '.'\n",
            "'CLMV2-1023', 'CLMV2-1023'\n",
            "'CLMV2-1017', '.'\n",
            "'CLMV2-817', 'CLMV2-817'\n",
            "'.', 'CLMV2-1065'\n",
            "'.', 'CLMV2-980'\n",
            "'CLMV2-935', 'CLMV2-935'\n",
            "'CLMV2-615', '.'\n",
            "'CLMV2-1056', 'CLMV2-1056'\n",
            "'CLMV2-698', 'CLMV2-698'\n",
            "'CLMV2-706', 'CLMV2-706'\n",
            "'CLMV2-527', 'CLMV2-527'\n",
            "'CLMV2-626', 'CLMV2-626'\n",
            "'CLMV2-703', 'CLMV2-703'\n",
            "'CLMV2-590', '.'\n",
            "'CLMV2-947', 'CLMV2-947'\n",
            "'CLMV2-689', 'CLMV2-689'\n",
            "'CLMV2-645', 'CLMV2-645'\n",
            "'CLMV2-596', '.'\n",
            "'CLMV2-620', '.'\n",
            "'CLMV2-599', '.'\n",
            "'CLMV2-550', 'CLMV2-550'\n",
            "'CLMV2-507', 'CLMV2-507'\n",
            "'CLMV2-996', '.'\n",
            "'CLMV2-987', 'CLMV2-987'\n",
            "'CLMV2-536', 'CLMV2-536'\n",
            "'CLMV2-665', 'CLMV2-665'\n",
            "'CLMV2-950', 'CLMV2-950'\n",
            "'.', 'CLMV2-1053'\n",
            "'CLMV2-541', 'CLMV2-541'\n",
            "'.', 'CLMV2-975'\n",
            "'CLMV2-1075', 'CLMV2-1075'\n",
            "'CLMV2-529', 'CLMV2-529'\n",
            "'CLMV2-551', 'CLMV2-551'\n",
            "'CLMV2-1016', '.'\n",
            "'CLMV2-1003', '.'\n",
            "'CLMV2-1079', '.'\n",
            "'CLMV2-709', 'CLMV2-709'\n",
            "'CLMV2-602', '.'\n",
            "'.', 'CLMV2-973'\n",
            "'CLMV2-1013', '.'\n",
            "'CLMV2-664', 'CLMV2-664'\n",
            "'CLMV2-1044', 'CLMV2-1044'\n",
            "'CLMV2-639', 'CLMV2-639'\n",
            "'.', 'CLMV2-983'\n",
            "'CLMV2-598', '.'\n",
            "'CLMV2-614', '.'\n",
            "'CLMV2-1021', '.'\n",
            "'CLMV2-1001', '.'\n",
            "'CLMV2-1060', 'CLMV2-1060'\n",
            "'CLMV2-589', '.'\n",
            "'CLMV2-680', 'CLMV2-680'\n",
            "'CLMV2-1025', 'CLMV2-1025'\n",
            "'CLMV2-1019', '.'\n",
            "'CLMV2-585', '.'\n",
            "'CLMV2-678', 'CLMV2-678'\n",
            "'CLMV2-683', 'CLMV2-683'\n",
            "'CLMV2-612', '.'\n",
            "'CLMV2-1022', 'CLMV2-1022'\n",
            "'CLMV2-704', 'CLMV2-704'\n",
            "'CLMV2-952', 'CLMV2-952'\n",
            "'CLMV2-728', 'CLMV2-728'\n",
            "'CLMV2-606', '.'\n",
            "'CLMV2-1027', 'CLMV2-1027'\n",
            "'CLMV2-601', '.'\n",
            "'CLMV2-668', 'CLMV2-668'\n",
            "'CLMV2-1052', 'CLMV2-1052'\n",
            "'CLMV2-1005', '.'\n",
            "'CLMV2-701', 'CLMV2-701'\n",
            "'CLMV2-648', 'CLMV2-648'\n",
            "'CLMV2-948', 'CLMV2-948'\n",
            "'CLMV2-555', 'CLMV2-555'\n",
            "'CLMV2-944', 'CLMV2-944'\n",
            "'CLMV2-997', '.'\n",
            "'CLMV2-684', 'CLMV2-684'\n",
            "'CLMV2-1014', '.'\n",
            "'CLMV2-695', 'CLMV2-695'\n",
            "'CLMV2-649', '.'\n",
            "'CLMV2-946', 'CLMV2-946'\n",
            "'CLMV2-1024', '.'\n",
            "'CLMV2-697', 'CLMV2-697'\n",
            "'CLMV2-858', 'CLMV2-858'\n",
            "'CLMV2-710', 'CLMV2-710'\n",
            "'CLMV2-708', 'CLMV2-708'\n",
            "'CLMV2-607', '.'\n",
            "'CLMV2-506', 'CLMV2-506'\n",
            "'CLMV2-1070', 'CLMV2-1070'\n",
            "'CLMV2-1074', 'CLMV2-1074'\n",
            "'CLMV2-901', 'CLMV2-901'\n",
            "'CLMV2-638', 'CLMV2-638'\n",
            "'CLMV2-592', '.'\n",
            "'CLMV2-1059', 'CLMV2-1059'\n",
            "'CLMV2-554', 'CLMV2-554'\n",
            "'CLMV2-663', 'CLMV2-663'\n",
            "'CLMV2-803', 'CLMV2-803'\n",
            "'CLMV2-1067', 'CLMV2-1067'\n",
            "'CLMV2-611', '.'\n",
            "'.', 'CLMV2-968'\n",
            "'CLMV2-652', 'CLMV2-652'\n",
            "'CLMV2-586', '.'\n",
            "'CLMV2-1012', '.'\n",
            "'CLMV2-1058', 'CLMV2-1058'\n",
            "'CLMV2-986', 'CLMV2-986'\n",
            "'.', 'CLMV2-1035'\n",
            "'CLMV2-511', 'CLMV2-511'\n",
            "'.', 'CLMV2-972'\n",
            "'.', 'CLMV2-1031'\n",
            "'.', 'CLMV2-1030'\n",
            "'CLMV2-616', '.'\n",
            "'.', 'CLMV2-1032'\n",
            "'CLMV2-940', 'CLMV2-940'\n",
            "'.', 'CLMV2-982'\n",
            "'CLMV2-1006', '.'\n",
            "'CLMV2-994', '.'\n",
            "'CLMV2-608', '.'\n",
            "'CLMV2-811', 'CLMV2-811'\n",
            "'.', 'CLMV2-967'\n",
            "'CLMV2-622', '.'\n",
            "'CLMV2-812', 'CLMV2-812'\n",
            "'CLMV2-630', 'CLMV2-630'\n",
            "'CLMV2-679', 'CLMV2-679'\n",
            "'CLMV2-1072', 'CLMV2-1072'\n",
            "'CLMV2-938', 'CLMV2-938'\n",
            "'CLMV2-619', '.'\n",
            "'CLMV2-548', 'CLMV2-548'\n",
            "'CLMV2-951', 'CLMV2-951'\n",
            "'CLMV2-591', '.'\n",
            "'CLMV2-553', 'CLMV2-553'\n",
            "'CLMV2-642', 'CLMV2-642'\n",
            "'CLMV2-584', '.'\n",
            "'.', 'CLMV2-1068'\n",
            "'CLMV2-621', '.'\n",
            "'CLMV2-637', 'CLMV2-637'\n",
            "'CLMV2-822', 'CLMV2-822'\n",
            "'CLMV2-1009', '.'\n",
            "'CLMV2-1008', '.'\n",
            "'CLMV2-1055', 'CLMV2-1055'\n",
            "'CLMV2-725', '.'\n",
            "'CLMV2-593', '.'\n",
            "'CLMV2-1011', '.'\n",
            "'CLMV2-656', 'CLMV2-656'\n",
            "'CLMV2-700', 'CLMV2-700'\n",
            "'CLMV2-576', '.'\n",
            "'CLMV2-609', '.'\n",
            "'CLMV2-1007', '.'\n",
            "'CLMV2-534', 'CLMV2-534'\n",
            "'CLMV2-1018', '.'\n",
            "'CLMV2-641', 'CLMV2-641'\n",
            "'CLMV2-667', 'CLMV2-667'\n",
            "'CLMV2-916', 'CLMV2-916'\n",
            "'CLMV2-674', '.'\n",
            "'.', 'CLMV2-1034'\n",
            "'CLMV2-587', '.'\n",
            "'CLMV2-1010', '.'\n",
            "'CLMV2-659', 'CLMV2-659'\n",
            "'.', 'CLMV2-977'\n",
            "'CLMV2-693', 'CLMV2-693'\n",
            "'CLMV2-694', 'CLMV2-694'\n",
            "'CLMV2-617', '.'\n",
            "'CLMV2-588', '.'\n",
            "'CLMV2-512', 'CLMV2-512'\n",
            "'CLMV2-651', 'CLMV2-651'\n",
            "'CLMV2-992', 'CLMV2-992'\n",
            "'CLMV2-805', 'CLMV2-805'\n",
            "'CLMV2-653', 'CLMV2-653'\n",
            "'CLMV2-801', 'CLMV2-801'\n",
            "'CLMV2-631', 'CLMV2-631'\n",
            "'CLMV2-1057', 'CLMV2-1057'\n",
            "'CLMV2-937', 'CLMV2-937'\n",
            "'CLMV2-670', 'CLMV2-670'\n",
            "'CLMV2-513', 'CLMV2-513'\n",
            "'CLMV2-998', '.'\n",
            "'CLMV2-939', 'CLMV2-939'\n",
            "'.', 'CLMV2-981'\n",
            "'CLMV2-666', 'CLMV2-666'\n",
            "'CLMV2-628', 'CLMV2-628'\n",
            "'CLMV2-699', 'CLMV2-699'\n",
            "'CLMV2-582', '.'\n",
            "'CLMV2-578', '.'\n",
            "'CLMV2-999', '.'\n",
            "'CLMV2-808', 'CLMV2-808'\n",
            "'CLMV2-603', '.'\n",
            "'CLMV2-1002', '.'\n",
            "'CLMV2-688', 'CLMV2-688'\n",
            "'CLMV2-677', 'CLMV2-677'\n",
            "'CLMV2-691', 'CLMV2-691'\n",
            "'.', 'CLMV2-971'\n",
            "'CLMV2-714', 'CLMV2-714'\n"
          ],
          "name": "stdout"
        }
      ]
    }
  ]
}